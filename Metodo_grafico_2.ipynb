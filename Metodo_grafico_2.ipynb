{
 "cells": [
  {
   "cell_type": "code",
   "execution_count": null,
   "metadata": {
    "colab": {
     "base_uri": "https://localhost:8080/",
     "height": 837
    },
    "executionInfo": {
     "elapsed": 104790,
     "status": "ok",
     "timestamp": 1730818928930,
     "user": {
      "displayName": "CARLOS EDUARDO CASTA�O GARZON",
      "userId": "07459674375126601481"
     },
     "user_tz": 300
    },
    "id": "r0J3-W9910fZ",
    "outputId": "f316d63e-ca74-4d40-bd26-8d018e7decb0"
   },
   "outputs": [
    {
     "ename": "ValueError",
     "evalue": "could not convert string to float: ''",
     "output_type": "error",
     "traceback": [
      "\u001b[1;31m---------------------------------------------------------------------------\u001b[0m",
      "\u001b[1;31mValueError\u001b[0m                                Traceback (most recent call last)",
      "Cell \u001b[1;32mIn[1], line 6\u001b[0m\n\u001b[0;32m      3\u001b[0m \u001b[38;5;28;01mfrom\u001b[39;00m \u001b[38;5;21;01mscipy\u001b[39;00m\u001b[38;5;21;01m.\u001b[39;00m\u001b[38;5;21;01moptimize\u001b[39;00m \u001b[38;5;28;01mimport\u001b[39;00m linprog\n\u001b[0;32m      5\u001b[0m \u001b[38;5;66;03m# Solicitar los coeficientes de la función objetivo al usuario\u001b[39;00m\n\u001b[1;32m----> 6\u001b[0m c1 \u001b[38;5;241m=\u001b[39m \u001b[38;5;28;43mfloat\u001b[39;49m\u001b[43m(\u001b[49m\u001b[38;5;28;43minput\u001b[39;49m\u001b[43m(\u001b[49m\u001b[38;5;124;43m\"\u001b[39;49m\u001b[38;5;124;43mIngrese el coeficiente de x1 en la función objetivo: \u001b[39;49m\u001b[38;5;124;43m\"\u001b[39;49m\u001b[43m)\u001b[49m\u001b[43m)\u001b[49m\n\u001b[0;32m      7\u001b[0m c2 \u001b[38;5;241m=\u001b[39m \u001b[38;5;28mfloat\u001b[39m(\u001b[38;5;28minput\u001b[39m(\u001b[38;5;124m\"\u001b[39m\u001b[38;5;124mIngrese el coeficiente de x2 en la función objetivo: \u001b[39m\u001b[38;5;124m\"\u001b[39m))\n\u001b[0;32m      8\u001b[0m c \u001b[38;5;241m=\u001b[39m np\u001b[38;5;241m.\u001b[39marray([\u001b[38;5;241m-\u001b[39mc1, \u001b[38;5;241m-\u001b[39mc2])  \u001b[38;5;66;03m# Convertimos a minimización usando -c1 y -c2\u001b[39;00m\n",
      "\u001b[1;31mValueError\u001b[0m: could not convert string to float: ''"
     ]
    }
   ],
   "source": [
    "import numpy as np\n",
    "import matplotlib.pyplot as plt\n",
    "from scipy.optimize import linprog\n",
    "\n",
    "def metodo_grafico():\n",
    "    # Solicitar los coeficientes de la función objetivo al usuario\n",
    "    c1 = float(input(\"Ingrese el coeficiente de x1 en la función objetivo: \"))\n",
    "    c2 = float(input(\"Ingrese el coeficiente de x2 en la función objetivo: \"))\n",
    "    c = np.array([-c1, -c2])  # Convertimos a minimización usando -c1 y -c2\n",
    "\n",
    "    # Solicitar el número de restricciones\n",
    "    num_restricciones = int(input(\"Ingrese el número de restricciones: \"))\n",
    "\n",
    "    # Listas para guardar las restricciones\n",
    "    A = []\n",
    "    b = []\n",
    "\n",
    "    # Coeficientes de cada restricción\n",
    "    for i in range(num_restricciones):\n",
    "        print(f\"\\nRestricción {i + 1}:\")\n",
    "        a1 = float(input(\"Ingrese el coeficiente de x1: \"))\n",
    "        a2 = float(input(\"Ingrese el coeficiente de x2: \"))\n",
    "        tipo = input(\"Ingrese el tipo de restricción (<= o >=): \")\n",
    "        limite = float(input(\"Ingrese el valor del límite: \"))\n",
    "\n",
    "        # Convertir restricciones >= a <= multiplicando por -1\n",
    "        if tipo == \">=\":\n",
    "            A.append([-a1, -a2])\n",
    "            b.append(-limite)\n",
    "        else:\n",
    "            A.append([a1, a2])\n",
    "            b.append(limite)\n",
    "\n",
    "    # Convertir las listas a arrays de numpy\n",
    "    A = np.array(A)\n",
    "    b = np.array(b)\n",
    "\n",
    "    # Valores positivos\n",
    "    x1_bounds = (0, None)\n",
    "    x2_bounds = (0, None)\n",
    "\n",
    "    # Resolvemos el problema de PL\n",
    "    res = linprog(c, A_ub=A, b_ub=b, bounds=[x1_bounds, x2_bounds], method='highs')\n",
    "\n",
    "    # Graficar restricciones\n",
    "    x1 = np.linspace(0, 30, 1000)\n",
    "    plt.xlim(0, 10)\n",
    "    plt.ylim(0, 10)\n",
    "\n",
    "    for i in range(num_restricciones):\n",
    "        a1, a2 = A[i]\n",
    "        limite = b[i]\n",
    "        if a2 != 0:\n",
    "            # Graficar la restricción como una línea\n",
    "            plt.plot(x1, (limite - a1 * x1) / a2, label=f'{a1}x1 + {a2}x2 <= {limite}')\n",
    "            # Sombrear la región de la restricción\n",
    "            plt.fill_between(x1, 0, (limite - a1 * x1) / a2, where=((limite - a1 * x1) / a2 >= 0) & (x1 >= 0), alpha=0.1)\n",
    "        else:\n",
    "            # Si a2 es 0, entonces es una restricción vertical de la forma x1 <= limite / a1\n",
    "            plt.axvline(x=limite / a1, color='red', linestyle='-', label=f'{a1}x1 <= {limite}')\n",
    "\n",
    "    # Punto óptimo\n",
    "    if res.success:\n",
    "        x_opt, y_opt = res.x\n",
    "        z_opt = c1 * x_opt + c2 * y_opt  # Calcula el valor óptimo de la función objetivo original\n",
    "        plt.plot(x_opt, y_opt, 'go', label=f'Punto óptimo ({x_opt:.2f}, {y_opt:.2f}), z = {z_opt:.2f}')\n",
    "    else:\n",
    "        print(\"No se encontró una solución óptima.\")\n",
    "\n",
    "    # Configuración de la gráfica\n",
    "    plt.xlabel('x1')\n",
    "    plt.ylabel('x2')\n",
    "    plt.legend()\n",
    "    plt.grid(True)\n",
    "    plt.title('Método Gráfico para Optimización de Funciones Lineales')\n",
    "    plt.show()\n"
   ]
  },
  {
   "cell_type": "markdown",
   "metadata": {},
   "source": []
  }
 ],
 "metadata": {
  "colab": {
   "authorship_tag": "ABX9TyPJK03YZ0rMO6quA9YXCPfx",
   "provenance": []
  },
  "kernelspec": {
   "display_name": "venv-simplex",
   "language": "python",
   "name": "python3"
  },
  "language_info": {
   "codemirror_mode": {
    "name": "ipython",
    "version": 3
   },
   "file_extension": ".py",
   "mimetype": "text/x-python",
   "name": "python",
   "nbconvert_exporter": "python",
   "pygments_lexer": "ipython3",
   "version": "3.12.2"
  }
 },
 "nbformat": 4,
 "nbformat_minor": 0
}
